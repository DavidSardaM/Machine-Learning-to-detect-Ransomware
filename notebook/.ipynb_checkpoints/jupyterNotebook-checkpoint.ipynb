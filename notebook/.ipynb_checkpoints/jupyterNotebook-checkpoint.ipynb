{
 "cells": [
  {
   "cell_type": "markdown",
   "metadata": {
    "collapsed": true
   },
   "source": [
    "# Classificació de gestos\n",
    "\n",
    "## Introducció\n",
    "\n",
    "En aquesta pràctica buscarem el millor model de classificació que donades lectures de diferents sensors pugui classificar a quina clase de gest pertany. Tindrem 4 diferents gestos: pedra, tisores, paper i ok; i tindrem també 8 sensors dels quals farem 8 lectures per cada un d'ells.\n",
    "\n",
    "Començarem per analitzar les dades i les relacions entre elles, aplicarem les modificacions a les dades, posteriorment buscarem el millor model i buscarem els millors hiperparàmetres pel model seleccionat.\n",
    "\n",
    "## Anàlisi de dades\n",
    "\n",
    "Primer observarem les dades que tenim, com són. Abans de començar cal tenir en compte que ja s'ha fet una transformació de les dades, s'ha passat de les dades categòriques: pedra, tisores, paper i ok, a les dades: 0, 1, 2 i 3 respectivament. \n",
    "\n",
    "Així, com també analitzarem la quantitat de variables nules i també el tipus de dades i les estadístiques que tenim en el nostre conjunt de dades del dataset, ."
   ]
  },
  {
   "cell_type": "code",
   "execution_count": null,
   "metadata": {},
   "outputs": [],
   "source": []
  }
 ],
 "metadata": {
  "kernelspec": {
   "display_name": "Python 3 (ipykernel)",
   "language": "python",
   "name": "python3"
  },
  "language_info": {
   "codemirror_mode": {
    "name": "ipython",
    "version": 3
   },
   "file_extension": ".py",
   "mimetype": "text/x-python",
   "name": "python",
   "nbconvert_exporter": "python",
   "pygments_lexer": "ipython3",
   "version": "3.9.7"
  }
 },
 "nbformat": 4,
 "nbformat_minor": 1
}
